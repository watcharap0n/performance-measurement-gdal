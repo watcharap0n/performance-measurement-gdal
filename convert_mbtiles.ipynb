{
 "cells": [
  {
   "cell_type": "code",
   "execution_count": 1,
   "id": "38a761fd-4185-4fce-a66c-3aecc0dcca76",
   "metadata": {},
   "outputs": [],
   "source": [
    "from osgeo import gdal"
   ]
  },
  {
   "cell_type": "code",
   "execution_count": 2,
   "id": "397250f6-3170-411c-9239-e84f65c56dd5",
   "metadata": {
    "tags": []
   },
   "outputs": [
    {
     "data": {
      "text/plain": [
       "'3.4.1'"
      ]
     },
     "execution_count": 2,
     "metadata": {},
     "output_type": "execute_result"
    }
   ],
   "source": [
    "gdal.__version__"
   ]
  },
  {
   "cell_type": "code",
   "execution_count": null,
   "id": "5cf291ce-5fae-457e-878d-ad56c17df216",
   "metadata": {},
   "outputs": [],
   "source": [
    "!pip install pydantic\n",
    "!pip install pandas\n",
    "!pip install matplotlib seaborn"
   ]
  },
  {
   "cell_type": "code",
   "execution_count": 3,
   "id": "5c1d1163-87ba-438b-8e54-c46b7c063885",
   "metadata": {
    "tags": []
   },
   "outputs": [],
   "source": [
    "import time\n",
    "import os\n",
    "import subprocess\n",
    "import seaborn as sns\n",
    "import matplotlib.pyplot as plt\n",
    "import pandas as pd\n",
    "from typing import Union, Optional\n",
    "from pydantic import BaseModel, validator"
   ]
  },
  {
   "cell_type": "code",
   "execution_count": null,
   "id": "610e7a50-37d4-47dc-bffd-e8291f7bdae8",
   "metadata": {
    "tags": []
   },
   "outputs": [],
   "source": [
    "sns.set_style('darkgrid')\n",
    "plt.figure()"
   ]
  },
  {
   "cell_type": "markdown",
   "id": "b1978a86-1a2b-4103-bdfc-bd8e87318717",
   "metadata": {},
   "source": [
    "### Create Model structure"
   ]
  },
  {
   "cell_type": "code",
   "execution_count": 5,
   "id": "477e2889-d47f-4d98-a72c-23ccaba148e0",
   "metadata": {
    "tags": []
   },
   "outputs": [],
   "source": [
    "ROOT = 'assets'\n",
    "\n",
    "class Config(BaseModel):\n",
    "    input_file: Union[str, None] = 'Khon Kaen_F1_transparent_mosaic_group1.tif'\n",
    "    output_mbtiles: Union[str, None] = None\n",
    "    output_geojson: Union[str, None] = None\n",
    "    \n",
    "    @validator('output_mbtiles', pre=True)\n",
    "    def output_file_join_path_mbtiles(cls, value):\n",
    "        basename = os.path.basename(cls.input_file)\n",
    "        output_file = os.path.join(ROOT, f'{basename}.mbtiles')\n",
    "        return output_file\n",
    "    \n",
    "    @validator('output_geojson', pre=True)\n",
    "    def output_file_join_path_geojson(cls, value):\n",
    "        basename = os.path.basename(cls.input_file)\n",
    "        output_file = os.path.join(ROOT, f'{basename}.geojson')\n",
    "        return output_file\n",
    "    "
   ]
  },
  {
   "cell_type": "markdown",
   "id": "68fc01b3-2998-4585-85fd-5f7804a365f4",
   "metadata": {},
   "source": [
    "### Convert bytes \n",
    "\n",
    "- from os.path.getsize"
   ]
  },
  {
   "cell_type": "code",
   "execution_count": 6,
   "id": "ce43a3ca-e0af-4c14-bbca-b327349bda2d",
   "metadata": {
    "tags": []
   },
   "outputs": [],
   "source": [
    "def convert_bytes(size):\n",
    "    for x in ['bytes', 'KB', 'MB', 'GB', 'TB']:\n",
    "        if size < 1024.0:\n",
    "            return \"%3.1f %s\" % (size, x)\n",
    "        size /= 1024.0"
   ]
  },
  {
   "cell_type": "code",
   "execution_count": 7,
   "id": "05f915b5-d0a3-48fe-bbe5-c5f6c891d19f",
   "metadata": {},
   "outputs": [],
   "source": [
    "def result_measure_area(tif: str) -> dict:\n",
    "    ds = gdal.Open(tif)\n",
    "    \n",
    "    # Get the GeoTransform matrix (affine transformation coefficients)\n",
    "    gt = ds.GetGeoTransform()\n",
    "\n",
    "    # Compute the pixel size (assumes square pixels)\n",
    "    pixel_size = gt[1]\n",
    "    \n",
    "    # Get the band object\n",
    "    band = ds.GetRasterBand(1)\n",
    "    \n",
    "    # Compute statistics for the band\n",
    "    stats = band.GetStatistics(True, True)\n",
    "    \n",
    "    # Get the minimum and maximum pixel values\n",
    "    min_val = stats[0]\n",
    "    max_val = stats[1]\n",
    "    \n",
    "    # Compute the number of pixels with non-zero values\n",
    "    nz_pixels = (band.ReadAsArray() != 0).sum()\n",
    "    \n",
    "    # Compute the area in square meters\n",
    "    area_m2 = nz_pixels * pixel_size * pixel_size\n",
    "    \n",
    "    # Convert area from square meters to rai\n",
    "    rai = area_m2 / 1600\n",
    "    res = {\n",
    "        'min_pixel': min_val,\n",
    "        'max_pixel': max_val,\n",
    "        'number_non_zero_pixel': nz_pixels,\n",
    "        'pixel_size': f'{pixel_size} m',\n",
    "        'area (sq.m)': area_m2,\n",
    "        'area (rai)': rai\n",
    "    }\n",
    "    return res\n"
   ]
  },
  {
   "cell_type": "markdown",
   "id": "2ec7d51f-711c-4aaa-a551-1cea313a6e7b",
   "metadata": {},
   "source": [
    "## Config Scheme\n",
    "- path input\n",
    "- path output_mbtiles\n",
    "- path output_geojson (optional)"
   ]
  },
  {
   "cell_type": "code",
   "execution_count": 8,
   "id": "857b69d2-41dc-4525-abdb-ce963bd3c879",
   "metadata": {},
   "outputs": [
    {
     "data": {
      "text/plain": [
       "['assets/khonkaen_f5_f6_f7/khonkaen_f5_subset1.TIF',\n",
       " 'assets/khonkaen_f5_f6_f7/khonkaen_f5_subset3.TIF',\n",
       " 'assets/khonkaen_f5_f6_f7/khonkaen_f5_subset4.TIF',\n",
       " 'assets/khonkaen_f5_f6_f7/khonkaen_f6_subset1.TIF',\n",
       " 'assets/khonkaen_f5_f6_f7/khonkaen_f6_subset3.TIF',\n",
       " 'assets/khonkaen_f5_f6_f7/khonkaen_f6_subset4.TIF',\n",
       " 'assets/khonkaen_f5_f6_f7/khonkaen_f8_subset0.TIF',\n",
       " 'assets/khonkaen_f5_f6_f7/khonkaen_f8_subset3.TIF',\n",
       " 'assets/khonkaen_f5_f6_f7/khonkaen_f8_subset4.TIF']"
      ]
     },
     "execution_count": 8,
     "metadata": {},
     "output_type": "execute_result"
    }
   ],
   "source": [
    "config = Config()\n",
    "tifs = []\n",
    "root_path = 'assets/khonkaen_f5_f6_f7'\n",
    "folder_tif = os.listdir(root_path)\n",
    "for fn in folder_tif:\n",
    "    if not fn.startswith('.'):\n",
    "        if fn.endswith('.tif') or fn.endswith('.TIF'):\n",
    "            file_tif = os.path.join(root_path, fn)\n",
    "            tifs.append(file_tif)\n",
    "\n",
    "tifs.sort()\n",
    "tifs"
   ]
  },
  {
   "cell_type": "markdown",
   "id": "3f835fad-9b5f-42c0-874e-6000bd40d62c",
   "metadata": {},
   "source": [
    "## Run Process convert .tif to .mbtiles"
   ]
  },
  {
   "cell_type": "code",
   "execution_count": 9,
   "id": "b26947cb-c0b6-4a48-bfbe-cdf2c1de9e15",
   "metadata": {
    "tags": []
   },
   "outputs": [],
   "source": [
    "results = []\n",
    "output_options = [\n",
    "    \"TILE_FORMAT=JPEG\",\n",
    "    \"QUALITY=75\",\n",
    "    \"RESAMPLING=average\"\n",
    "    \"MAXZOOM=22\"\n",
    "]\n",
    "    \n",
    "for k, tif in enumerate(tifs):\n",
    "    start_time = time.time()\n",
    "    config.input_file = tif\n",
    "    basename = os.path.basename(config.input_file).split('.')[0]\n",
    "    config.output_mbtiles = f'output_mbtiles/{basename}.mbtiles'\n",
    "    tif_file = gdal.Open(config.input_file)\n",
    "    translate_options = gdal.TranslateOptions(\n",
    "        format=\"MBTiles\",\n",
    "        creationOptions=output_options,\n",
    "        bandList=[1, 2, 3]\n",
    "    )\n",
    "    gdal.Translate(config.output_mbtiles, config.input_file, options=translate_options)\n",
    "    # gdal.Translate(config.output_mbtiles, config.input_file, format='MBTiles', options=['-co', 'TILE_FORMAT=JPEG'])\n",
    "    tif_file = None\n",
    "    end_time = time.time() - start_time\n",
    "    minute = end_time / 60\n",
    "    sz = os.path.getsize(tif)\n",
    "    obj = {'time_taken': round(minute, 4), 'file_tif': tif, 'output_mbtiles': config.output_mbtiles, 'file_size': convert_bytes(sz)}\n",
    "    measure = result_measure_area(config.input_file)\n",
    "    obj.update(measure)\n",
    "    results.append(obj)\n"
   ]
  },
  {
   "cell_type": "markdown",
   "id": "04e3e65a-3d6f-4a60-88b4-d9a787b9f278",
   "metadata": {},
   "source": [
    "## Another way convert file .tif to vector (geojson, shp)\n",
    "\n",
    "**VectorTransalte, Transalte**\n",
    "\n",
    "- gdal.Transalte(format=\"GeoJson\")\n",
    "- gdal.VectorTranslate(format=\"ESRI Shapefile\")"
   ]
  },
  {
   "cell_type": "code",
   "execution_count": null,
   "id": "a7e60c04-0536-432c-9aaa-544fa55195ae",
   "metadata": {
    "tags": []
   },
   "outputs": [],
   "source": [
    "# Convert GeoTIFF file to vector shapefile\n",
    "input_file = \"Khonkaen_F4_transparent_mosaic_group1.tif\"\n",
    "vector_file = \"output.shp\"\n",
    "gdal.VectorTranslate(vector_file, input_file, format=\"ESRI Shapefile\")\n",
    "\n",
    "# Convert vector shapefile to MBTiles file\n",
    "output_file = \"output.mbtiles\"\n",
    "gdal.Translate(output_file, vector_file, format=\"MBTiles\")"
   ]
  },
  {
   "cell_type": "markdown",
   "id": "128e4f61-56ea-4ab1-8541-b90761337d2e",
   "metadata": {},
   "source": [
    "## F1 & F2"
   ]
  },
  {
   "cell_type": "code",
   "execution_count": 45,
   "id": "08604941-773c-4565-960e-57531a2439df",
   "metadata": {
    "tags": []
   },
   "outputs": [
    {
     "data": {
      "text/html": [
       "<div>\n",
       "<style scoped>\n",
       "    .dataframe tbody tr th:only-of-type {\n",
       "        vertical-align: middle;\n",
       "    }\n",
       "\n",
       "    .dataframe tbody tr th {\n",
       "        vertical-align: top;\n",
       "    }\n",
       "\n",
       "    .dataframe thead th {\n",
       "        text-align: right;\n",
       "    }\n",
       "</style>\n",
       "<table border=\"1\" class=\"dataframe\">\n",
       "  <thead>\n",
       "    <tr style=\"text-align: right;\">\n",
       "      <th></th>\n",
       "      <th>time_taken</th>\n",
       "      <th>file_tif</th>\n",
       "      <th>output_mbtiles</th>\n",
       "      <th>file_size</th>\n",
       "      <th>min_pixel</th>\n",
       "      <th>max_pixel</th>\n",
       "      <th>number_non_zero_pixel</th>\n",
       "      <th>pixel_size</th>\n",
       "      <th>area (sq.m)</th>\n",
       "      <th>area (rai)</th>\n",
       "    </tr>\n",
       "  </thead>\n",
       "  <tbody>\n",
       "    <tr>\n",
       "      <th>0</th>\n",
       "      <td>0.1912</td>\n",
       "      <td>assets/khonkaen_f1_f2/khonkaen_f1_subset0.TIF</td>\n",
       "      <td>output_mbtiles/khonkaen_f1_subset0.mbtiles</td>\n",
       "      <td>135.6 MB</td>\n",
       "      <td>0.0</td>\n",
       "      <td>255.0</td>\n",
       "      <td>48836770</td>\n",
       "      <td>0.05063787766023837 m</td>\n",
       "      <td>125226.984549</td>\n",
       "      <td>78.266865</td>\n",
       "    </tr>\n",
       "    <tr>\n",
       "      <th>1</th>\n",
       "      <td>0.1817</td>\n",
       "      <td>assets/khonkaen_f1_f2/khonkaen_f1_subset3.TIF</td>\n",
       "      <td>output_mbtiles/khonkaen_f1_subset3.mbtiles</td>\n",
       "      <td>114.0 MB</td>\n",
       "      <td>0.0</td>\n",
       "      <td>255.0</td>\n",
       "      <td>48875340</td>\n",
       "      <td>0.05063787766023837 m</td>\n",
       "      <td>125325.885537</td>\n",
       "      <td>78.328678</td>\n",
       "    </tr>\n",
       "    <tr>\n",
       "      <th>2</th>\n",
       "      <td>0.1893</td>\n",
       "      <td>assets/khonkaen_f1_f2/khonkaen_f1_subset4.TIF</td>\n",
       "      <td>output_mbtiles/khonkaen_f1_subset4.mbtiles</td>\n",
       "      <td>168.4 MB</td>\n",
       "      <td>0.0</td>\n",
       "      <td>255.0</td>\n",
       "      <td>62409984</td>\n",
       "      <td>0.05063787766023837 m</td>\n",
       "      <td>160031.347325</td>\n",
       "      <td>100.019592</td>\n",
       "    </tr>\n",
       "    <tr>\n",
       "      <th>3</th>\n",
       "      <td>0.1818</td>\n",
       "      <td>assets/khonkaen_f1_f2/khonkaen_f1_subset7.TIF</td>\n",
       "      <td>output_mbtiles/khonkaen_f1_subset7.mbtiles</td>\n",
       "      <td>100.7 MB</td>\n",
       "      <td>0.0</td>\n",
       "      <td>255.0</td>\n",
       "      <td>59928965</td>\n",
       "      <td>0.05063787766023837 m</td>\n",
       "      <td>153669.531669</td>\n",
       "      <td>96.043457</td>\n",
       "    </tr>\n",
       "    <tr>\n",
       "      <th>4</th>\n",
       "      <td>0.1941</td>\n",
       "      <td>assets/khonkaen_f1_f2/khonkaen_f2_subset0.TIF</td>\n",
       "      <td>output_mbtiles/khonkaen_f2_subset0.mbtiles</td>\n",
       "      <td>139.9 MB</td>\n",
       "      <td>0.0</td>\n",
       "      <td>255.0</td>\n",
       "      <td>44426166</td>\n",
       "      <td>0.051930000000000386 m</td>\n",
       "      <td>119805.148064</td>\n",
       "      <td>74.878218</td>\n",
       "    </tr>\n",
       "    <tr>\n",
       "      <th>5</th>\n",
       "      <td>0.1893</td>\n",
       "      <td>assets/khonkaen_f1_f2/khonkaen_f2_subset1.TIF</td>\n",
       "      <td>output_mbtiles/khonkaen_f2_subset1.mbtiles</td>\n",
       "      <td>134.1 MB</td>\n",
       "      <td>0.0</td>\n",
       "      <td>255.0</td>\n",
       "      <td>43783928</td>\n",
       "      <td>0.051930000000000386 m</td>\n",
       "      <td>118073.208857</td>\n",
       "      <td>73.795756</td>\n",
       "    </tr>\n",
       "    <tr>\n",
       "      <th>6</th>\n",
       "      <td>0.1960</td>\n",
       "      <td>assets/khonkaen_f1_f2/khonkaen_f2_subset3.TIF</td>\n",
       "      <td>output_mbtiles/khonkaen_f2_subset3.mbtiles</td>\n",
       "      <td>175.8 MB</td>\n",
       "      <td>0.0</td>\n",
       "      <td>255.0</td>\n",
       "      <td>57004516</td>\n",
       "      <td>0.051930000000000386 m</td>\n",
       "      <td>153725.497710</td>\n",
       "      <td>96.078436</td>\n",
       "    </tr>\n",
       "    <tr>\n",
       "      <th>7</th>\n",
       "      <td>0.1974</td>\n",
       "      <td>assets/khonkaen_f1_f2/khonkaen_f2_subset4.TIF</td>\n",
       "      <td>output_mbtiles/khonkaen_f2_subset4.mbtiles</td>\n",
       "      <td>171.5 MB</td>\n",
       "      <td>0.0</td>\n",
       "      <td>255.0</td>\n",
       "      <td>56225057</td>\n",
       "      <td>0.051930000000000386 m</td>\n",
       "      <td>151623.511216</td>\n",
       "      <td>94.764695</td>\n",
       "    </tr>\n",
       "    <tr>\n",
       "      <th>8</th>\n",
       "      <td>0.1968</td>\n",
       "      <td>assets/khonkaen_f1_f2/khonkaen_f2_subset6.TIF</td>\n",
       "      <td>output_mbtiles/khonkaen_f2_subset6.mbtiles</td>\n",
       "      <td>181.2 MB</td>\n",
       "      <td>0.0</td>\n",
       "      <td>255.0</td>\n",
       "      <td>59835077</td>\n",
       "      <td>0.051930000000000386 m</td>\n",
       "      <td>161358.742039</td>\n",
       "      <td>100.849214</td>\n",
       "    </tr>\n",
       "    <tr>\n",
       "      <th>9</th>\n",
       "      <td>0.1987</td>\n",
       "      <td>assets/khonkaen_f1_f2/khonkaen_f2_subset7.TIF</td>\n",
       "      <td>output_mbtiles/khonkaen_f2_subset7.mbtiles</td>\n",
       "      <td>187.6 MB</td>\n",
       "      <td>0.0</td>\n",
       "      <td>255.0</td>\n",
       "      <td>62401955</td>\n",
       "      <td>0.051930000000000386 m</td>\n",
       "      <td>168280.905857</td>\n",
       "      <td>105.175566</td>\n",
       "    </tr>\n",
       "  </tbody>\n",
       "</table>\n",
       "</div>"
      ],
      "text/plain": [
       "   time_taken                                       file_tif  \\\n",
       "0      0.1912  assets/khonkaen_f1_f2/khonkaen_f1_subset0.TIF   \n",
       "1      0.1817  assets/khonkaen_f1_f2/khonkaen_f1_subset3.TIF   \n",
       "2      0.1893  assets/khonkaen_f1_f2/khonkaen_f1_subset4.TIF   \n",
       "3      0.1818  assets/khonkaen_f1_f2/khonkaen_f1_subset7.TIF   \n",
       "4      0.1941  assets/khonkaen_f1_f2/khonkaen_f2_subset0.TIF   \n",
       "5      0.1893  assets/khonkaen_f1_f2/khonkaen_f2_subset1.TIF   \n",
       "6      0.1960  assets/khonkaen_f1_f2/khonkaen_f2_subset3.TIF   \n",
       "7      0.1974  assets/khonkaen_f1_f2/khonkaen_f2_subset4.TIF   \n",
       "8      0.1968  assets/khonkaen_f1_f2/khonkaen_f2_subset6.TIF   \n",
       "9      0.1987  assets/khonkaen_f1_f2/khonkaen_f2_subset7.TIF   \n",
       "\n",
       "                               output_mbtiles file_size  min_pixel  max_pixel  \\\n",
       "0  output_mbtiles/khonkaen_f1_subset0.mbtiles  135.6 MB        0.0      255.0   \n",
       "1  output_mbtiles/khonkaen_f1_subset3.mbtiles  114.0 MB        0.0      255.0   \n",
       "2  output_mbtiles/khonkaen_f1_subset4.mbtiles  168.4 MB        0.0      255.0   \n",
       "3  output_mbtiles/khonkaen_f1_subset7.mbtiles  100.7 MB        0.0      255.0   \n",
       "4  output_mbtiles/khonkaen_f2_subset0.mbtiles  139.9 MB        0.0      255.0   \n",
       "5  output_mbtiles/khonkaen_f2_subset1.mbtiles  134.1 MB        0.0      255.0   \n",
       "6  output_mbtiles/khonkaen_f2_subset3.mbtiles  175.8 MB        0.0      255.0   \n",
       "7  output_mbtiles/khonkaen_f2_subset4.mbtiles  171.5 MB        0.0      255.0   \n",
       "8  output_mbtiles/khonkaen_f2_subset6.mbtiles  181.2 MB        0.0      255.0   \n",
       "9  output_mbtiles/khonkaen_f2_subset7.mbtiles  187.6 MB        0.0      255.0   \n",
       "\n",
       "   number_non_zero_pixel              pixel_size    area (sq.m)  area (rai)  \n",
       "0               48836770   0.05063787766023837 m  125226.984549   78.266865  \n",
       "1               48875340   0.05063787766023837 m  125325.885537   78.328678  \n",
       "2               62409984   0.05063787766023837 m  160031.347325  100.019592  \n",
       "3               59928965   0.05063787766023837 m  153669.531669   96.043457  \n",
       "4               44426166  0.051930000000000386 m  119805.148064   74.878218  \n",
       "5               43783928  0.051930000000000386 m  118073.208857   73.795756  \n",
       "6               57004516  0.051930000000000386 m  153725.497710   96.078436  \n",
       "7               56225057  0.051930000000000386 m  151623.511216   94.764695  \n",
       "8               59835077  0.051930000000000386 m  161358.742039  100.849214  \n",
       "9               62401955  0.051930000000000386 m  168280.905857  105.175566  "
      ]
     },
     "execution_count": 45,
     "metadata": {},
     "output_type": "execute_result"
    }
   ],
   "source": [
    "df = pd.DataFrame(results)\n",
    "df"
   ]
  },
  {
   "cell_type": "markdown",
   "id": "4903ee82-2aea-4959-b7a8-ebe3756092ec",
   "metadata": {},
   "source": [
    "## F5 & F6 & F8"
   ]
  },
  {
   "cell_type": "code",
   "execution_count": 10,
   "id": "7eae64a0-3420-4b36-89fb-5efa7a6cd37b",
   "metadata": {
    "tags": []
   },
   "outputs": [
    {
     "data": {
      "text/html": [
       "<div>\n",
       "<style scoped>\n",
       "    .dataframe tbody tr th:only-of-type {\n",
       "        vertical-align: middle;\n",
       "    }\n",
       "\n",
       "    .dataframe tbody tr th {\n",
       "        vertical-align: top;\n",
       "    }\n",
       "\n",
       "    .dataframe thead th {\n",
       "        text-align: right;\n",
       "    }\n",
       "</style>\n",
       "<table border=\"1\" class=\"dataframe\">\n",
       "  <thead>\n",
       "    <tr style=\"text-align: right;\">\n",
       "      <th></th>\n",
       "      <th>time_taken</th>\n",
       "      <th>file_tif</th>\n",
       "      <th>output_mbtiles</th>\n",
       "      <th>file_size</th>\n",
       "      <th>min_pixel</th>\n",
       "      <th>max_pixel</th>\n",
       "      <th>number_non_zero_pixel</th>\n",
       "      <th>pixel_size</th>\n",
       "      <th>area (sq.m)</th>\n",
       "      <th>area (rai)</th>\n",
       "    </tr>\n",
       "  </thead>\n",
       "  <tbody>\n",
       "    <tr>\n",
       "      <th>0</th>\n",
       "      <td>0.2026</td>\n",
       "      <td>assets/khonkaen_f5_f6_f7/khonkaen_f5_subset1.TIF</td>\n",
       "      <td>output_mbtiles/khonkaen_f5_subset1.mbtiles</td>\n",
       "      <td>162.5 MB</td>\n",
       "      <td>0.0</td>\n",
       "      <td>255.0</td>\n",
       "      <td>56162227</td>\n",
       "      <td>0.050800000000000886 m</td>\n",
       "      <td>144934.489485</td>\n",
       "      <td>90.584056</td>\n",
       "    </tr>\n",
       "    <tr>\n",
       "      <th>1</th>\n",
       "      <td>0.1870</td>\n",
       "      <td>assets/khonkaen_f5_f6_f7/khonkaen_f5_subset3.TIF</td>\n",
       "      <td>output_mbtiles/khonkaen_f5_subset3.mbtiles</td>\n",
       "      <td>147.7 MB</td>\n",
       "      <td>0.0</td>\n",
       "      <td>255.0</td>\n",
       "      <td>57256969</td>\n",
       "      <td>0.050800000000000886 m</td>\n",
       "      <td>147759.624480</td>\n",
       "      <td>92.349765</td>\n",
       "    </tr>\n",
       "    <tr>\n",
       "      <th>2</th>\n",
       "      <td>0.1905</td>\n",
       "      <td>assets/khonkaen_f5_f6_f7/khonkaen_f5_subset4.TIF</td>\n",
       "      <td>output_mbtiles/khonkaen_f5_subset4.mbtiles</td>\n",
       "      <td>171.8 MB</td>\n",
       "      <td>0.0</td>\n",
       "      <td>255.0</td>\n",
       "      <td>62409886</td>\n",
       "      <td>0.050800000000000886 m</td>\n",
       "      <td>161057.448207</td>\n",
       "      <td>100.660905</td>\n",
       "    </tr>\n",
       "    <tr>\n",
       "      <th>3</th>\n",
       "      <td>0.1901</td>\n",
       "      <td>assets/khonkaen_f5_f6_f7/khonkaen_f6_subset1.TIF</td>\n",
       "      <td>output_mbtiles/khonkaen_f6_subset1.mbtiles</td>\n",
       "      <td>172.8 MB</td>\n",
       "      <td>0.0</td>\n",
       "      <td>255.0</td>\n",
       "      <td>59504734</td>\n",
       "      <td>0.05082000000000035 m</td>\n",
       "      <td>153681.234171</td>\n",
       "      <td>96.050771</td>\n",
       "    </tr>\n",
       "    <tr>\n",
       "      <th>4</th>\n",
       "      <td>0.1900</td>\n",
       "      <td>assets/khonkaen_f5_f6_f7/khonkaen_f6_subset3.TIF</td>\n",
       "      <td>output_mbtiles/khonkaen_f6_subset3.mbtiles</td>\n",
       "      <td>171.7 MB</td>\n",
       "      <td>0.0</td>\n",
       "      <td>255.0</td>\n",
       "      <td>58576718</td>\n",
       "      <td>0.05082000000000035 m</td>\n",
       "      <td>151284.472861</td>\n",
       "      <td>94.552796</td>\n",
       "    </tr>\n",
       "    <tr>\n",
       "      <th>5</th>\n",
       "      <td>0.1920</td>\n",
       "      <td>assets/khonkaen_f5_f6_f7/khonkaen_f6_subset4.TIF</td>\n",
       "      <td>output_mbtiles/khonkaen_f6_subset4.mbtiles</td>\n",
       "      <td>176.1 MB</td>\n",
       "      <td>0.0</td>\n",
       "      <td>255.0</td>\n",
       "      <td>62409986</td>\n",
       "      <td>0.05082000000000035 m</td>\n",
       "      <td>161184.548327</td>\n",
       "      <td>100.740343</td>\n",
       "    </tr>\n",
       "    <tr>\n",
       "      <th>6</th>\n",
       "      <td>0.4928</td>\n",
       "      <td>assets/khonkaen_f5_f6_f7/khonkaen_f8_subset0.TIF</td>\n",
       "      <td>output_mbtiles/khonkaen_f8_subset0.mbtiles</td>\n",
       "      <td>144.8 MB</td>\n",
       "      <td>0.0</td>\n",
       "      <td>255.0</td>\n",
       "      <td>51794212</td>\n",
       "      <td>0.05037999999999729 m</td>\n",
       "      <td>131461.189140</td>\n",
       "      <td>82.163243</td>\n",
       "    </tr>\n",
       "    <tr>\n",
       "      <th>7</th>\n",
       "      <td>0.4946</td>\n",
       "      <td>assets/khonkaen_f5_f6_f7/khonkaen_f8_subset3.TIF</td>\n",
       "      <td>output_mbtiles/khonkaen_f8_subset3.mbtiles</td>\n",
       "      <td>165.8 MB</td>\n",
       "      <td>0.0</td>\n",
       "      <td>255.0</td>\n",
       "      <td>60126495</td>\n",
       "      <td>0.05037999999999729 m</td>\n",
       "      <td>152609.726576</td>\n",
       "      <td>95.381079</td>\n",
       "    </tr>\n",
       "    <tr>\n",
       "      <th>8</th>\n",
       "      <td>0.5004</td>\n",
       "      <td>assets/khonkaen_f5_f6_f7/khonkaen_f8_subset4.TIF</td>\n",
       "      <td>output_mbtiles/khonkaen_f8_subset4.mbtiles</td>\n",
       "      <td>158.3 MB</td>\n",
       "      <td>0.0</td>\n",
       "      <td>255.0</td>\n",
       "      <td>62251940</td>\n",
       "      <td>0.05037999999999729 m</td>\n",
       "      <td>158004.412900</td>\n",
       "      <td>98.752758</td>\n",
       "    </tr>\n",
       "  </tbody>\n",
       "</table>\n",
       "</div>"
      ],
      "text/plain": [
       "   time_taken                                          file_tif  \\\n",
       "0      0.2026  assets/khonkaen_f5_f6_f7/khonkaen_f5_subset1.TIF   \n",
       "1      0.1870  assets/khonkaen_f5_f6_f7/khonkaen_f5_subset3.TIF   \n",
       "2      0.1905  assets/khonkaen_f5_f6_f7/khonkaen_f5_subset4.TIF   \n",
       "3      0.1901  assets/khonkaen_f5_f6_f7/khonkaen_f6_subset1.TIF   \n",
       "4      0.1900  assets/khonkaen_f5_f6_f7/khonkaen_f6_subset3.TIF   \n",
       "5      0.1920  assets/khonkaen_f5_f6_f7/khonkaen_f6_subset4.TIF   \n",
       "6      0.4928  assets/khonkaen_f5_f6_f7/khonkaen_f8_subset0.TIF   \n",
       "7      0.4946  assets/khonkaen_f5_f6_f7/khonkaen_f8_subset3.TIF   \n",
       "8      0.5004  assets/khonkaen_f5_f6_f7/khonkaen_f8_subset4.TIF   \n",
       "\n",
       "                               output_mbtiles file_size  min_pixel  max_pixel  \\\n",
       "0  output_mbtiles/khonkaen_f5_subset1.mbtiles  162.5 MB        0.0      255.0   \n",
       "1  output_mbtiles/khonkaen_f5_subset3.mbtiles  147.7 MB        0.0      255.0   \n",
       "2  output_mbtiles/khonkaen_f5_subset4.mbtiles  171.8 MB        0.0      255.0   \n",
       "3  output_mbtiles/khonkaen_f6_subset1.mbtiles  172.8 MB        0.0      255.0   \n",
       "4  output_mbtiles/khonkaen_f6_subset3.mbtiles  171.7 MB        0.0      255.0   \n",
       "5  output_mbtiles/khonkaen_f6_subset4.mbtiles  176.1 MB        0.0      255.0   \n",
       "6  output_mbtiles/khonkaen_f8_subset0.mbtiles  144.8 MB        0.0      255.0   \n",
       "7  output_mbtiles/khonkaen_f8_subset3.mbtiles  165.8 MB        0.0      255.0   \n",
       "8  output_mbtiles/khonkaen_f8_subset4.mbtiles  158.3 MB        0.0      255.0   \n",
       "\n",
       "   number_non_zero_pixel              pixel_size    area (sq.m)  area (rai)  \n",
       "0               56162227  0.050800000000000886 m  144934.489485   90.584056  \n",
       "1               57256969  0.050800000000000886 m  147759.624480   92.349765  \n",
       "2               62409886  0.050800000000000886 m  161057.448207  100.660905  \n",
       "3               59504734   0.05082000000000035 m  153681.234171   96.050771  \n",
       "4               58576718   0.05082000000000035 m  151284.472861   94.552796  \n",
       "5               62409986   0.05082000000000035 m  161184.548327  100.740343  \n",
       "6               51794212   0.05037999999999729 m  131461.189140   82.163243  \n",
       "7               60126495   0.05037999999999729 m  152609.726576   95.381079  \n",
       "8               62251940   0.05037999999999729 m  158004.412900   98.752758  "
      ]
     },
     "execution_count": 10,
     "metadata": {},
     "output_type": "execute_result"
    }
   ],
   "source": [
    "df = pd.DataFrame(results)\n",
    "df"
   ]
  },
  {
   "cell_type": "code",
   "execution_count": 12,
   "id": "8d14e669-aa26-4521-82a6-b74d10a5d383",
   "metadata": {
    "tags": []
   },
   "outputs": [],
   "source": [
    "def summary_report(col: str) -> dict:\n",
    "    mean = df[col].mean()\n",
    "    _sum = df[col].sum()\n",
    "    std = df[col].std()\n",
    "    print('mean score: ', round(mean, 4))\n",
    "    print('sum score: ', round(_sum, 4))\n",
    "    print('standard deviation score: ', std)\n",
    "    return {'mean': round(mean, 4), 'sum': round(_sum, 4), 'sd': std}\n",
    "    "
   ]
  },
  {
   "cell_type": "markdown",
   "id": "2fbb4f9d-8999-4225-84d1-dc8f21b012ab",
   "metadata": {},
   "source": [
    "## F1 & F2\n",
    "### Time taken"
   ]
  },
  {
   "cell_type": "code",
   "execution_count": 40,
   "id": "5f6c2bf4-5f0f-4f03-9282-74d454632a2f",
   "metadata": {
    "tags": []
   },
   "outputs": [
    {
     "data": {
      "text/plain": [
       "'Time taked'"
      ]
     },
     "metadata": {},
     "output_type": "display_data"
    },
    {
     "name": "stdout",
     "output_type": "stream",
     "text": [
      "mean score:  0.1916\n",
      "sum score:  1.9163\n",
      "standard deviation score:  0.006159734842778002\n"
     ]
    },
    {
     "data": {
      "text/plain": [
       "{'mean': 0.1916, 'sum': 1.9163, 'sd': 0.006159734842778002}"
      ]
     },
     "execution_count": 40,
     "metadata": {},
     "output_type": "execute_result"
    }
   ],
   "source": [
    "display('Time taked')\n",
    "summary_report('time_taken')"
   ]
  },
  {
   "cell_type": "markdown",
   "id": "34749ec3-f57c-4bb3-ac8d-9dc14f88e774",
   "metadata": {},
   "source": [
    "## F1 & F2\n",
    "### Area (rai)"
   ]
  },
  {
   "cell_type": "code",
   "execution_count": 41,
   "id": "b702c742-5f65-41e0-b4aa-ad38940e3185",
   "metadata": {
    "tags": []
   },
   "outputs": [
    {
     "data": {
      "text/plain": [
       "'Area'"
      ]
     },
     "metadata": {},
     "output_type": "display_data"
    },
    {
     "name": "stdout",
     "output_type": "stream",
     "text": [
      "mean score:  89.82\n",
      "sum score:  898.2005\n",
      "standard deviation score:  12.061770454536566\n"
     ]
    },
    {
     "data": {
      "text/plain": [
       "{'mean': 89.82, 'sum': 898.2005, 'sd': 12.061770454536566}"
      ]
     },
     "execution_count": 41,
     "metadata": {},
     "output_type": "execute_result"
    }
   ],
   "source": [
    "display('Area')\n",
    "summary_report('area (rai)')"
   ]
  },
  {
   "cell_type": "markdown",
   "id": "3153e2cc-28ae-47ef-8877-b3e87bb2498d",
   "metadata": {},
   "source": [
    "## F5 & F6 & F8\n",
    "### Time taken"
   ]
  },
  {
   "cell_type": "code",
   "execution_count": 15,
   "id": "20e27483-5606-4ecf-9047-868d1c3d9c20",
   "metadata": {
    "tags": []
   },
   "outputs": [
    {
     "name": "stdout",
     "output_type": "stream",
     "text": [
      "mean score:  0.2933\n",
      "sum score:  2.64\n",
      "standard deviation score:  0.15202350969504683\n"
     ]
    },
    {
     "data": {
      "text/plain": [
       "{'mean': 0.2933, 'sum': 2.64, 'sd': 0.15202350969504683}"
      ]
     },
     "execution_count": 15,
     "metadata": {},
     "output_type": "execute_result"
    }
   ],
   "source": [
    "summary_report('time_taken')"
   ]
  },
  {
   "cell_type": "markdown",
   "id": "b68b8515-664f-4eae-81e8-ca7d706eae67",
   "metadata": {},
   "source": [
    "## F5 & F6 & F8\n",
    "### Area (rai)"
   ]
  },
  {
   "cell_type": "code",
   "execution_count": 16,
   "id": "3eaf3ca8-2fec-40ec-b162-37938fc2ff9c",
   "metadata": {
    "tags": []
   },
   "outputs": [
    {
     "name": "stdout",
     "output_type": "stream",
     "text": [
      "mean score:  94.5817\n",
      "sum score:  851.2357\n",
      "standard deviation score:  5.812294222100304\n"
     ]
    },
    {
     "data": {
      "text/plain": [
       "{'mean': 94.5817, 'sum': 851.2357, 'sd': 5.812294222100304}"
      ]
     },
     "execution_count": 16,
     "metadata": {},
     "output_type": "execute_result"
    }
   ],
   "source": [
    "summary_report('area (rai)')"
   ]
  },
  {
   "cell_type": "markdown",
   "id": "e08ab7e4-41bf-4289-baab-efc55ae9755d",
   "metadata": {},
   "source": [
    "## End processed"
   ]
  },
  {
   "cell_type": "code",
   "execution_count": null,
   "id": "20beefdc-ca8f-425d-a4ec-f63167213e3b",
   "metadata": {},
   "outputs": [],
   "source": []
  }
 ],
 "metadata": {
  "kernelspec": {
   "display_name": "Python 3 (ipykernel)",
   "language": "python",
   "name": "python3"
  },
  "language_info": {
   "codemirror_mode": {
    "name": "ipython",
    "version": 3
   },
   "file_extension": ".py",
   "mimetype": "text/x-python",
   "name": "python",
   "nbconvert_exporter": "python",
   "pygments_lexer": "ipython3",
   "version": "3.10.6"
  }
 },
 "nbformat": 4,
 "nbformat_minor": 5
}
