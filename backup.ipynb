{
 "cells": [
  {
   "cell_type": "code",
   "execution_count": null,
   "id": "bd10ccf2-3f55-47d0-892c-93eed367eaca",
   "metadata": {},
   "outputs": [],
   "source": [
    "start_time = time.time()\n",
    "\n",
    "subprocess.run([\"gdal_polygonize.py\", config.input_file, \"-f\", \"GeoJSON\", config.output_geojson])\n",
    "\n",
    "end_time = time.time() - start_time\n",
    "end_time"
   ]
  }
 ],
 "metadata": {
  "kernelspec": {
   "display_name": "Python 3 (ipykernel)",
   "language": "python",
   "name": "python3"
  },
  "language_info": {
   "codemirror_mode": {
    "name": "ipython",
    "version": 3
   },
   "file_extension": ".py",
   "mimetype": "text/x-python",
   "name": "python",
   "nbconvert_exporter": "python",
   "pygments_lexer": "ipython3",
   "version": "3.10.6"
  }
 },
 "nbformat": 4,
 "nbformat_minor": 5
}
